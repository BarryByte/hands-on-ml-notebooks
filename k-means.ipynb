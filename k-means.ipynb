{
 "cells": [
  {
   "cell_type": "markdown",
   "id": "37ccc717",
   "metadata": {},
   "source": [
    "# K-Means Algorithm\n",
    "\n",
    "The k-means algorithm captures the insight that each point in a cluster should be near to the center of that cluster. It works like this: first we choose k, the number of clusters we want to find in the data. Then, the centers of those k clusters, called centroids.\n",
    "\n",
    "2 steps :\n",
    "1. Reassign points step\n",
    "2. Update centroids step"
   ]
  },
  {
   "cell_type": "markdown",
   "id": "1dd66b75",
   "metadata": {},
   "source": [
    "## 1. Initialization\n",
    "\n",
    "### Methods for centroid initilization\n",
    "\n",
    "1. Random selection - randomly pick k data points from the dataset to serve as initial centroids.\n",
    "2. K means++ - smarter initiliazation that spreads out the centroids and typically leads to better convergence by reducing the likelihood of poor clustering results.\n",
    "\n",
    "\n",
    "Why initialization matters :\n",
    "- poor initialization can lead to slow convergence.\n",
    "- it may trap the algorithm in a local optimum ( we want global optimal clustering solution)"
   ]
  },
  {
   "cell_type": "markdown",
   "id": "f7478532",
   "metadata": {},
   "source": [
    "### Random initialization \n"
   ]
  },
  {
   "cell_type": "code",
   "execution_count": 1,
   "id": "f60dcc76",
   "metadata": {},
   "outputs": [
    {
     "name": "stdout",
     "output_type": "stream",
     "text": [
      "Initial Centroids:\n",
      " [[1.  2. ]\n",
      " [1.5 1.8]]\n"
     ]
    }
   ],
   "source": [
    "import numpy as np\n",
    "\n",
    "def initialize_centroids(data, k , seed=None):\n",
    "  \"\"\"\n",
    "  Randomly select k unique data points as initial centroids.\n",
    "  \"\"\"\n",
    "\n",
    "  if seed is not None:\n",
    "    np.random.seed(seed)\n",
    "\n",
    "  indices = np.random.choice(len(data), size = k, replace = False)\n",
    "  centroids = data[indices]\n",
    "  return centroids\n",
    "\n",
    "# example for low-dimension dataset :\n",
    "\n",
    "data_low = np.array([[1, 2], [1.5, 1.8], [5, 8], [8, 8], [1, 0.6], [9, 11]])\n",
    "k = 2\n",
    "initial_centroids = initialize_centroids(data_low, k, seed=42)\n",
    "print(\"Initial Centroids:\\n\", initial_centroids)"
   ]
  },
  {
   "cell_type": "markdown",
   "id": "12ff0c07",
   "metadata": {},
   "source": [
    "### Learning Point:\n",
    "> The random initialization is simple but may yield different results on each run unless a seed is set. This method may sometimes lead to poor cluster formation. More sophisticated methods like k-means++ can help alleviate this issue."
   ]
  },
  {
   "cell_type": "markdown",
   "id": "7a386ce0",
   "metadata": {},
   "source": [
    "### Distance Calculation\n",
    "\n",
    "1. Low-dimensional data ( less than 3 dim ) - eculidean and manhattan distances are often preferred.\n",
    "2. High-dimensional data ( more than 3 dim) - cosine similarity can be more appropriate, as it takes into account the orientation rather than the magnitude of vectors."
   ]
  },
  {
   "cell_type": "code",
   "execution_count": 2,
   "id": "89c630a1",
   "metadata": {},
   "outputs": [],
   "source": [
    "def euclidean_distance(point1, point2):\n",
    "  return np.sqrt(np.sum((point1 - point2) ** 2))"
   ]
  },
  {
   "cell_type": "code",
   "execution_count": 3,
   "id": "ca5262ee",
   "metadata": {},
   "outputs": [],
   "source": [
    "def manhattan_distance(point1 , point2):\n",
    "  return np.sum(np.abs(point1 - point2))"
   ]
  },
  {
   "cell_type": "code",
   "execution_count": 4,
   "id": "3d5a1d87",
   "metadata": {},
   "outputs": [
    {
     "name": "stdout",
     "output_type": "stream",
     "text": [
      "The Euclidean distance between [1 2] and [4 6] is: 5.00\n"
     ]
    }
   ],
   "source": [
    "point_a = np.array([1, 2])\n",
    "point_b = np.array([4, 6])\n",
    "distance = euclidean_distance(point_a, point_b)\n",
    "print(f\"The Euclidean distance between {point_a} and {point_b} is: {distance:.2f}\")"
   ]
  },
  {
   "cell_type": "code",
   "execution_count": 5,
   "id": "fc78d57b",
   "metadata": {},
   "outputs": [
    {
     "name": "stdout",
     "output_type": "stream",
     "text": [
      "The Euclidean distance between [1 0 3] and [-2  4  1] is: 5.39\n"
     ]
    }
   ],
   "source": [
    "point_c = np.array([1, 0, 3])\n",
    "point_d = np.array([-2, 4, 1])\n",
    "distance = euclidean_distance(point_c, point_d)\n",
    "print(f\"The Euclidean distance between {point_c} and {point_d} is: {distance:.2f}\")"
   ]
  },
  {
   "cell_type": "markdown",
   "id": "1909bca4",
   "metadata": {},
   "source": [
    "### Cosine similarity between vectors x and y is given by :\n",
    "\n",
    "> sim(x,y) = x.y / || x || || y ||\n",
    "\n",
    ">  cosine distance = d.cosine(x,y) = 1 - sim(x,y)"
   ]
  },
  {
   "cell_type": "code",
   "execution_count": 6,
   "id": "386d1367",
   "metadata": {},
   "outputs": [],
   "source": [
    "def cosine_distance(point1, point2):\n",
    "  dot_product = np.dot(point1, point2)\n",
    "\n",
    "  # np.linalg.norm(point) calculates the length of the vector represented by point from the origin of the coordinate system.\n",
    "  norm1 = np.linalg.norm(point1)\n",
    "  norm2 = np.linalg.norm(point2)\n",
    "\n",
    "  # point = np.array([3, 4])\n",
    "  # underroot( 3^2 + 4^2) = underroot(25) = 5\n",
    "\n",
    "  if norm1 == 0 or norm2 == 0 :\n",
    "    return 1.0\n",
    "\n",
    "  cosine_similarity = dot_product / (norm1 * norm2)\n",
    "  return 1 - cosine_similarity\n"
   ]
  },
  {
   "cell_type": "markdown",
   "id": "68b5e328",
   "metadata": {},
   "source": [
    "## Conditional selection of distance metric\n"
   ]
  },
  {
   "cell_type": "code",
   "execution_count": 7,
   "id": "a3206ff8",
   "metadata": {},
   "outputs": [],
   "source": [
    "def choose_distance_metric(dim) :\n",
    "  if dim <= 3 :\n",
    "    return euclidean_distance, manhattan_distance\n",
    "  else :\n",
    "    return cosine_distance, None"
   ]
  },
  {
   "cell_type": "code",
   "execution_count": 8,
   "id": "d4f8fc64",
   "metadata": {},
   "outputs": [
    {
     "name": "stdout",
     "output_type": "stream",
     "text": [
      "Euclidean distance from [1, 2] to first centroid: 0.0\n",
      "Manhattan distance from [1, 2] to first centroid: 0.0\n",
      "Cosine distance from first high-dim point to second high-dim point: 0.0008563653798602244\n"
     ]
    }
   ],
   "source": [
    "# Example for a low-dimensional data point:\n",
    "point = np.array([1, 2])\n",
    "print(\"Euclidean distance from [1, 2] to first centroid:\",\n",
    "      euclidean_distance(point, initial_centroids[0]))\n",
    "print(\"Manhattan distance from [1, 2] to first centroid:\",\n",
    "      manhattan_distance(point, initial_centroids[0]))\n",
    "\n",
    "# Example for a high-dimensional dataset\n",
    "data_high = np.array([\n",
    "    [0.1, 0.2, 0.8, 0.9],\n",
    "    [0.15, 0.22, 0.85, 0.92],\n",
    "    [0.7, 0.6, 0.3, 0.2]\n",
    "])\n",
    "# Using cosine distance as the metric\n",
    "point_hd = data_high[0]\n",
    "print(\"Cosine distance from first high-dim point to second high-dim point:\",\n",
    "      cosine_distance(point_hd, data_high[1]))"
   ]
  },
  {
   "cell_type": "markdown",
   "id": "2b52f355",
   "metadata": {},
   "source": [
    "### Learning Point:\n",
    "1. Euclidean Distance: Sensitive to scale and best for compact, roughly spherical clusters.\n",
    "2. Manhattan Distance: More robust to outliers in some cases and can capture city-block or grid-like path distances.\n",
    "3. Cosine Distance: Useful in high-dimensional spaces (e.g., text data) where orientation matters more than magnitude."
   ]
  },
  {
   "cell_type": "markdown",
   "id": "88207990",
   "metadata": {},
   "source": [
    "## 3. Assignment Step\n",
    "\n",
    "in this step, every datapoint is assigned to the cluster of the nearest centroid. This is done by calculating the distance from each point to each centroid and choosing choosing the centroid with the minimum distance."
   ]
  },
  {
   "cell_type": "code",
   "execution_count": 14,
   "id": "b11fd78b",
   "metadata": {},
   "outputs": [],
   "source": [
    "def assign_clusters(data, centroids, distance_func):\n",
    "\n",
    "  assignments = []\n",
    "  for point in data:\n",
    "    # compute distance from point to each centroid.\n",
    "    distances = [ distance_func(point, centroid) for centroid in centroids ]\n",
    "    # find the index cluster with the minimum distance\n",
    "    cluster_index = np.argmin(distances)\n",
    "    assignments.append(cluster_index)\n",
    "\n",
    "  return np.array(assignments)"
   ]
  },
  {
   "cell_type": "code",
   "execution_count": null,
   "id": "c1d423b2",
   "metadata": {},
   "outputs": [
    {
     "name": "stdout",
     "output_type": "stream",
     "text": [
      "Cluster assignments (Euclidean): [0 1 1 1 1 1]\n"
     ]
    }
   ],
   "source": [
    "assignments_low = assign_clusters(data_low, initial_centroids, euclidean_distance)\n",
    "print(\"Cluster assignments (Euclidean):\", assignments_low)"
   ]
  },
  {
   "cell_type": "code",
   "execution_count": 16,
   "id": "a010c7d8",
   "metadata": {},
   "outputs": [
    {
     "name": "stdout",
     "output_type": "stream",
     "text": [
      "Cluster assignments (manhattan_distance): [0 1 1 1 0 1]\n"
     ]
    }
   ],
   "source": [
    "assignments_low = assign_clusters(data_low, initial_centroids, manhattan_distance)\n",
    "print(\"Cluster assignments (manhattan_distance):\", assignments_low)"
   ]
  },
  {
   "cell_type": "markdown",
   "id": "5461923e",
   "metadata": {},
   "source": [
    "### Learning point :\n",
    "Cluster assignment ensures that each data point “belongs” to the nearest centroid, forming the basis for updating centroids in the next iteration."
   ]
  },
  {
   "cell_type": "markdown",
   "id": "0361b249",
   "metadata": {},
   "source": [
    "## Update step:\n",
    "\n",
    "Once the data points are assigned to clusters, update the centroids by computing the mean of all points belonging to that cluster"
   ]
  },
  {
   "cell_type": "code",
   "execution_count": 24,
   "id": "721ecf13",
   "metadata": {},
   "outputs": [],
   "source": [
    "def update_centroids(data, assignments, k):\n",
    "  n_features = data.shape[1]\n",
    "  new_centroids = np.zeros((k, n_features))\n",
    "  for idx in range(k):\n",
    "\n",
    "    if np.any(assignments == idx) :\n",
    "      new_centroids[idx] = np.mean(data[assignments == idx], axis=0)\n",
    "    else :\n",
    "      new_centroids[idx] = data[np.random.choice(range(len(data)))]\n",
    "  return new_centroids"
   ]
  },
  {
   "cell_type": "code",
   "execution_count": 25,
   "id": "7cb70177",
   "metadata": {},
   "outputs": [
    {
     "name": "stdout",
     "output_type": "stream",
     "text": [
      "Updated Centroids:\n",
      " [[1.    1.3  ]\n",
      " [5.875 7.2  ]]\n"
     ]
    }
   ],
   "source": [
    "new_centroids_low = update_centroids(data_low, assignments_low, k)\n",
    "print(\"Updated Centroids:\\n\", new_centroids_low)"
   ]
  },
  {
   "cell_type": "markdown",
   "id": "be749c15",
   "metadata": {},
   "source": [
    "### Learning point:\n",
    "\n",
    "updating centroids to the mean of assigned points is central to the k-means algorithm. It slowly shifts centroid towards the center of their clusters and is a key driver of convergence."
   ]
  },
  {
   "cell_type": "markdown",
   "id": "a5960ac7",
   "metadata": {},
   "source": [
    "## 5. Iteration and Convergence\n",
    "\n",
    "K-means clustering is an iterative algorithm. The two primary steps - assignment and update are repeated until :\n",
    "\n",
    "1. the cluster assigments no longer change, or \n",
    "2. a maximum number of iteration is reached"
   ]
  },
  {
   "cell_type": "code",
   "execution_count": 26,
   "id": "c40ded2c",
   "metadata": {},
   "outputs": [],
   "source": [
    "def k_means(data, k , max_iters = 100, tol=1e-4, seed = None):\n",
    "    \"\"\"\n",
    "    Complete k-means algorithm.\n",
    "\n",
    "    Parameters:\n",
    "        data (np.array): The dataset.\n",
    "        k (int): Number of clusters.\n",
    "        max_iters (int): Maximum number of iterations.\n",
    "        tol (float): Tolerance for convergence based on centroid movement.\n",
    "        seed (int): Random seed for reproducibility.\n",
    "\n",
    "    Returns:\n",
    "        centroids (np.array): Final centroids.\n",
    "        assignments (np.array): Final cluster assignments for each data point.\n",
    "    \"\"\"\n",
    "    # initial_centroids\n",
    "    centroids = initialize_centroids(data, k , seed = seed)\n",
    "\n",
    "    # choose distance metric based on dimensionality\n",
    "    dim = data.shape[1]\n",
    "\n",
    "    if dim <=3 :\n",
    "        distance_func = euclidean_distance\n",
    "    else :\n",
    "        distance_func = cosine_distance\n",
    "\n",
    "    for iteration in range(max_iters):\n",
    "        # Assignment step\n",
    "        assignments = assign_clusters(data, centroids, distance_func)\n",
    "        # store current centroud for convergence checking\n",
    "        old_centroids = centroids.copy()\n",
    "        # update step\n",
    "        centroids = update_centroids(data, assignments, k)\n",
    "        # check for convergence (if centroid change less than tol)\n",
    "        centroid_shifts = np.linalg.norm(centroids - old_centroids, axis = 1)\n",
    "        if np.all(centroids < tol) :\n",
    "            print(f\"Converged in {iteration} iterations.\")\n",
    "            break\n",
    "\n",
    "    return centroids, assignments\n",
    "\n"
   ]
  },
  {
   "cell_type": "code",
   "execution_count": 27,
   "id": "a256935c",
   "metadata": {},
   "outputs": [
    {
     "name": "stdout",
     "output_type": "stream",
     "text": [
      "Final Centroids (Low-dimensional):\n",
      " [[1.16666667 1.46666667]\n",
      " [7.33333333 9.        ]]\n",
      "Final Cluster Assignments (Low-dimensional): [0 0 1 1 0 1]\n"
     ]
    }
   ],
   "source": [
    "# Running the algorithm on the low-dimensional dataset:\n",
    "final_centroids_low, final_assignments_low = k_means(data_low, k, seed=42)\n",
    "print(\"Final Centroids (Low-dimensional):\\n\", final_centroids_low)\n",
    "print(\"Final Cluster Assignments (Low-dimensional):\", final_assignments_low)"
   ]
  },
  {
   "cell_type": "code",
   "execution_count": 28,
   "id": "4ecbda56",
   "metadata": {},
   "outputs": [
    {
     "name": "stdout",
     "output_type": "stream",
     "text": [
      "Final Centroids (Low-dimensional):\n",
      " [[0.125 0.21  0.825 0.91 ]\n",
      " [0.7   0.6   0.3   0.2  ]]\n",
      "Final Cluster Assignments (Low-dimensional): [0 0 1]\n"
     ]
    }
   ],
   "source": [
    "# Running the algorithm on the low-dimensional dataset:\n",
    "final_centroids_low, final_assignments_low = k_means(data_high, k, seed=42)\n",
    "print(\"Final Centroids (Low-dimensional):\\n\", final_centroids_low)\n",
    "print(\"Final Cluster Assignments (Low-dimensional):\", final_assignments_low)"
   ]
  },
  {
   "cell_type": "markdown",
   "id": "a1b65be3",
   "metadata": {},
   "source": [
    "### Learning Point:\n",
    "The algorithm’s iterative structure is essential. Convergence is determined when centroids no longer move significantly or after a set number of iterations. However, note that k-means can converge to a local optimum, so sometimes multiple initializations are run to improve results."
   ]
  },
  {
   "cell_type": "code",
   "execution_count": null,
   "id": "2627f6e1",
   "metadata": {},
   "outputs": [],
   "source": []
  }
 ],
 "metadata": {
  "kernelspec": {
   "display_name": "chapter_02_env",
   "language": "python",
   "name": "python3"
  },
  "language_info": {
   "codemirror_mode": {
    "name": "ipython",
    "version": 3
   },
   "file_extension": ".py",
   "mimetype": "text/x-python",
   "name": "python",
   "nbconvert_exporter": "python",
   "pygments_lexer": "ipython3",
   "version": "3.12.3"
  }
 },
 "nbformat": 4,
 "nbformat_minor": 5
}
